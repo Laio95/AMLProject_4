{
  "nbformat": 4,
  "nbformat_minor": 0,
  "metadata": {
    "colab": {
      "provenance": [],
      "authorship_tag": "ABX9TyMBN9oYjacBGCbQa9QF/OEg",
      "include_colab_link": true
    },
    "kernelspec": {
      "name": "python3",
      "display_name": "Python 3"
    },
    "language_info": {
      "name": "python"
    }
  },
  "cells": [
    {
      "cell_type": "markdown",
      "metadata": {
        "id": "view-in-github",
        "colab_type": "text"
      },
      "source": [
        "<a href=\"https://colab.research.google.com/github/Laio95/AMLProject_4/blob/main/AMLProject_4.ipynb\" target=\"_parent\"><img src=\"https://colab.research.google.com/assets/colab-badge.svg\" alt=\"Open In Colab\"/></a>"
      ]
    },
    {
      "cell_type": "markdown",
      "source": [
        "## AML Project 4"
      ],
      "metadata": {
        "id": "bIyOEI6R-KAA"
      }
    },
    {
      "cell_type": "code",
      "execution_count": null,
      "metadata": {
        "id": "r-06orVe9Dj3"
      },
      "outputs": [],
      "source": [
        "!git clone https://github.com/Laio95/AMLProject_4.git"
      ]
    },
    {
      "cell_type": "code",
      "source": [
        "!pip install -r AMLProject_4/requirements.txt"
      ],
      "metadata": {
        "id": "tXXh3SVF9k9b"
      },
      "execution_count": null,
      "outputs": []
    },
    {
      "cell_type": "code",
      "source": [
        "from google.colab import drive\n",
        "drive.mount('/content/drive')"
      ],
      "metadata": {
        "id": "7IMDE7sn95x9"
      },
      "execution_count": null,
      "outputs": []
    }
  ]
}